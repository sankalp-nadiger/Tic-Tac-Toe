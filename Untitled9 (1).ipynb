{
  "nbformat": 4,
  "nbformat_minor": 0,
  "metadata": {
    "colab": {
      "provenance": []
    },
    "kernelspec": {
      "name": "python3",
      "display_name": "Python 3"
    },
    "language_info": {
      "name": "python"
    }
  },
  "cells": [
    {
      "cell_type": "code",
      "execution_count": 14,
      "metadata": {
        "id": "l6dZgadtYkEJ"
      },
      "outputs": [],
      "source": [
        "from IPython.display import clear_output\n",
        "\n",
        "def display_board(board):\n",
        "    clear_output()\n",
        "    print('     |     |')\n",
        "    print('  ' + board[7] + '  |  ' + board[8] + '  |  ' + board[9])\n",
        "    print('     |     |')\n",
        "    print('-----------------')\n",
        "    print('     |     |')\n",
        "    print('  ' + board[4] + '  |  ' + board[5] + '  |  ' + board[6])\n",
        "    print('     |     |')\n",
        "    print('-----------------')\n",
        "    print('     |     |')\n",
        "    print('  ' + board[1] + '  |  ' + board[2] + '  |  ' + board[3])\n",
        "    print('     |     |')"
      ]
    },
    {
      "cell_type": "code",
      "source": [
        "def player_input():\n",
        "  marker=''\n",
        "  while marker!='X' and marker!='O':\n",
        "    marker=input('Player1: Choose X or O').upper()\n",
        "    if marker=='X':\n",
        "      return ('X','O')\n",
        "    else:\n",
        "      return ('O','X')"
      ],
      "metadata": {
        "id": "U668z03Wbnpt"
      },
      "execution_count": 3,
      "outputs": []
    },
    {
      "cell_type": "code",
      "source": [
        "def place_marker(board,marker,pos):\n",
        "  board[pos]=marker"
      ],
      "metadata": {
        "id": "2oCZxNReczcy"
      },
      "execution_count": 4,
      "outputs": []
    },
    {
      "cell_type": "code",
      "source": [
        "def win_check(board,mark):\n",
        "  return((board[7]==mark and board[8]==mark and board[9]==mark)or\n",
        "         (board[4]==mark and board[5]==mark and board[6]==mark)or\n",
        "         (board[1]==mark and board[2]==mark and board[3]==mark)or\n",
        "         (board[7]==mark and board[4]==mark and board[1]==mark)or\n",
        "         (board[8]==mark and board[5]==mark and board[2]==mark)or\n",
        "         (board[9]==mark and board[6]==mark and board[3]==mark)or\n",
        "         (board[7]==mark and board[5]==mark and board[3]==mark)or\n",
        "         (board[9]==mark and board[5]==mark and board[1]==mark))\n"
      ],
      "metadata": {
        "id": "9HSKGpb-d3dB"
      },
      "execution_count": 5,
      "outputs": []
    },
    {
      "cell_type": "code",
      "source": [
        "import random\n",
        "\n",
        "def choose_first():\n",
        "  flip=random.randint(0,1)\n",
        "  if flip==0:\n",
        "    return \"Player 1\"\n",
        "  else:\n",
        "    return 'Player 2'\n"
      ],
      "metadata": {
        "id": "MzWrHEVue-gE"
      },
      "execution_count": 6,
      "outputs": []
    },
    {
      "cell_type": "code",
      "source": [
        "def space_check(board,pos):\n",
        "  return board[pos]==' '"
      ],
      "metadata": {
        "id": "y7LVsEQPfdmt"
      },
      "execution_count": 7,
      "outputs": []
    },
    {
      "cell_type": "code",
      "source": [
        "def full_board_check(board):\n",
        "  for i in range(1,10):\n",
        "    if space_check(board,i):\n",
        "      return False\n",
        "  return True"
      ],
      "metadata": {
        "id": "RV6ZCo_qfwrH"
      },
      "execution_count": 8,
      "outputs": []
    },
    {
      "cell_type": "code",
      "source": [
        "def player_choice(board):\n",
        "  pos=0\n",
        "  while pos not in [1,2,3,4,5,6,7,8,9] or not space_check(board,pos):\n",
        "    pos=int(input('Choose a position(1-9)'))\n",
        "\n",
        "  return pos"
      ],
      "metadata": {
        "id": "GE3zZUiWgNVy"
      },
      "execution_count": 9,
      "outputs": []
    },
    {
      "cell_type": "code",
      "source": [
        "def replay():\n",
        "  response=input('Play again?(Yes/No)')\n",
        "  return response=='Yes'"
      ],
      "metadata": {
        "id": "xcQ1ZuqDg1VB"
      },
      "execution_count": 10,
      "outputs": []
    },
    {
      "cell_type": "code",
      "source": [
        "print('Welcome to TIC TAC TOE')\n",
        "\n",
        "while True:\n",
        "    the_board = [' '] * 10\n",
        "    player1_marker, player2_marker = player_input()  # Define or import player_input() function\n",
        "    turn = choose_first()  # Define or import choose_first() function\n",
        "    print(turn + ' will go first')\n",
        "    play_game = input(\"Ready to play? (Y/N)\")\n",
        "    if play_game.lower() == 'y':\n",
        "        game_on = True\n",
        "    else:\n",
        "        game_on = False\n",
        "    while game_on:\n",
        "        if turn == 'Player 1':\n",
        "            display_board(the_board)  # Define or import display_board() function\n",
        "            pos = player_choice(the_board)  # Define or import player_choice() function\n",
        "            place_marker(the_board, player1_marker, pos)  # Define or import place_marker() function\n",
        "            if win_check(the_board, player1_marker):  # Define or import win_check() function\n",
        "                display_board(the_board)\n",
        "                print('Player 1 has won')\n",
        "                game_on = False\n",
        "            else:\n",
        "                if full_board_check(the_board):  # Define or import full_board_check() function\n",
        "                    display_board(the_board)\n",
        "                    print('TIE Game')\n",
        "                    break\n",
        "                else:\n",
        "                    turn = 'Player 2'\n",
        "        else:\n",
        "            display_board(the_board)\n",
        "            pos = player_choice(the_board)  # Define or import player_choice() function\n",
        "            place_marker(the_board, player2_marker, pos)  # Define or import place_marker() function\n",
        "            if win_check(the_board, player2_marker):  # Define or import win_check() function\n",
        "                display_board(the_board)\n",
        "                print('Player 2 has won')\n",
        "                game_on = False\n",
        "            else:\n",
        "                if full_board_check(the_board):  # Define or import full_board_check() function\n",
        "                    display_board(the_board)\n",
        "                    print('TIE Game')\n",
        "                    break\n",
        "                else:\n",
        "                    turn = 'Player 1'\n",
        "    if not replay():  # Define or import replay() function\n",
        "            break\n"
      ],
      "metadata": {
        "id": "vhnbGSq-hMum"
      },
      "execution_count": null,
      "outputs": []
    }
  ]
}